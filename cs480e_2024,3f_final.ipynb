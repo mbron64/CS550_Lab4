{
  "nbformat": 4,
  "nbformat_minor": 0,
  "metadata": {
    "colab": {
      "provenance": [],
      "include_colab_link": true
    },
    "kernelspec": {
      "name": "python3",
      "display_name": "Python 3"
    },
    "language_info": {
      "name": "python"
    }
  },
  "cells": [
    {
      "cell_type": "markdown",
      "metadata": {
        "id": "view-in-github",
        "colab_type": "text"
      },
      "source": [
        "<a href=\"https://colab.research.google.com/github/mbron64/CS550_Lab4/blob/main/cs480e_2024%2C3f_final.ipynb\" target=\"_parent\"><img src=\"https://colab.research.google.com/assets/colab-badge.svg\" alt=\"Open In Colab\"/></a>"
      ]
    },
    {
      "cell_type": "markdown",
      "source": [
        "# CS480E/580E: Final Exam\n",
        "\n",
        "\n",
        "\n"
      ],
      "metadata": {
        "id": "NVU1oJYOZ4RI"
      }
    },
    {
      "cell_type": "markdown",
      "source": [
        "Name: Michael Bronikowski\n",
        "\n",
        "B-number: B00808654\n",
        "\n",
        "E-mail: mbronik1@binghamton.edu"
      ],
      "metadata": {
        "id": "XMTeg9PBff_v"
      }
    },
    {
      "cell_type": "markdown",
      "source": [
        "## General Instructions\n",
        "### Due December 13th, 11:59 PM.\n",
        "\n",
        "In the final exam, you will use autoencoders to do dimensionality reduction on the MNIST images. You will then use the reduced dimensional representations to perform similarity search on test images. At the end of notebook, you will be able to retrieve k-most similar images on the training set.  \n",
        "\n",
        "\n",
        "Functions and cells that need to be implemented are marked with a bold **implement** keyword or clearly marked in the experiments section.\n",
        "\n",
        "Make sure to **run** the cells marked for running to make sure all the data and functions are available.\n",
        "\n",
        "The GitHub link is here: https://classroom.github.com/a/PQyT1LP2. You must have 15 commits for this.\n",
        "\n",
        "**AI is not allowed for this final.**\n",
        "This is in an intro course,\n",
        "so we want you to learn the fundamentals first.\n",
        "Maybe in 10 years that will change,\n",
        "but we are not there yet."
      ],
      "metadata": {
        "id": "wl3YVu4ZFABa"
      }
    },
    {
      "cell_type": "markdown",
      "source": [
        "**Run** the following cell to import libraries."
      ],
      "metadata": {
        "id": "rR3ppk_X43X0"
      }
    },
    {
      "cell_type": "code",
      "execution_count": 1,
      "metadata": {
        "id": "8Xtjmf2iZ0g3"
      },
      "outputs": [],
      "source": [
        "import math\n",
        "import random\n",
        "import torch\n",
        "import torch.nn as nn\n",
        "from torch.nn import init\n",
        "import torchvision\n",
        "import torchvision.transforms as T\n",
        "import torch.optim as optim\n",
        "from torch.utils.data import DataLoader, random_split\n",
        "import torchvision.datasets as dset\n",
        "import matplotlib.pyplot as plt\n",
        "import matplotlib.gridspec as gridspec\n",
        "import numpy as np\n",
        "\n",
        "%matplotlib inline\n",
        "\n",
        "\n",
        "# for plotting\n",
        "plt.rcParams['figure.figsize'] = (10.0, 8.0) # set default size of plots\n",
        "plt.rcParams['font.size'] = 16\n",
        "plt.rcParams['image.interpolation'] = 'nearest'\n",
        "plt.rcParams['image.cmap'] = 'gray'"
      ]
    },
    {
      "cell_type": "markdown",
      "source": [
        "# Dataset\n",
        "\n",
        "You will be working on the MNIST dataset, which is 60,000 training and 10,000 test images. Each picture contains a centered image of white digit on black background (0 through 9).\n",
        "\n",
        "To simplify our code here, use the PyTorch MNIST wrapper, which downloads and loads the MNIST dataset. See the [documentation](https://github.com/pytorch/vision/blob/master/torchvision/datasets/mnist.py) for more information about the interface. The default parameters will take 5,000 of the training examples and place them into a validation dataset. The data will be saved into a folder called `MNIST_data`.\n",
        "\n",
        "**Run** the following cell to mount your drive on colab."
      ],
      "metadata": {
        "id": "xfi1dtm9F-WG"
      }
    },
    {
      "cell_type": "code",
      "source": [
        "# Mount the drive\n",
        "from google.colab import drive\n",
        "drive.mount('/content/drive')"
      ],
      "metadata": {
        "id": "o7LzaKFO3YEB"
      },
      "execution_count": null,
      "outputs": []
    },
    {
      "cell_type": "markdown",
      "source": [
        "**Run** the following cells to retrieve the MNIST training, validation, and test sets"
      ],
      "metadata": {
        "id": "JMhyPVyA4irk"
      }
    },
    {
      "cell_type": "code",
      "source": [
        "mnist_train = dset.MNIST('./MNIST_data', train=True, download=True,\n",
        "                           transform=T.ToTensor())\n",
        "\n",
        "mnist_test = dset.MNIST('./MNIST_data', train=False, download=True,\n",
        "                        transform=T.ToTensor())\n",
        "\n",
        "mnist_train, mnist_validation = random_split(mnist_train, [.8, .2])"
      ],
      "metadata": {
        "id": "AZUtLcYC3aU3"
      },
      "execution_count": null,
      "outputs": []
    },
    {
      "cell_type": "markdown",
      "source": [
        "**Run** this cell to print the number of cells on the traning, validation, and test datasets."
      ],
      "metadata": {
        "id": "TvKznGC14v_I"
      }
    },
    {
      "cell_type": "code",
      "source": [
        "print(len(mnist_train), len(mnist_validation), len(mnist_test))"
      ],
      "metadata": {
        "id": "5mtDzRQ3aKtL"
      },
      "execution_count": null,
      "outputs": []
    },
    {
      "cell_type": "markdown",
      "source": [
        "**Run** this cell to define the helper function to generate grids of images."
      ],
      "metadata": {
        "id": "BkemVCHR4u4Z"
      }
    },
    {
      "cell_type": "code",
      "source": [
        "def show_images(images):\n",
        "    images = torch.reshape(\n",
        "        images, [images.shape[0], -1]\n",
        "    )  # images reshape to (batch_size, D)\n",
        "    sqrtn = int(math.ceil(math.sqrt(images.shape[0])))\n",
        "    sqrtimg = int(math.ceil(math.sqrt(images.shape[1])))\n",
        "\n",
        "    fig = plt.figure(figsize=(sqrtn, sqrtn))\n",
        "    gs = gridspec.GridSpec(sqrtn, sqrtn)\n",
        "    gs.update(wspace=0.05, hspace=0.05)\n",
        "\n",
        "    for i, img in enumerate(images):\n",
        "        ax = plt.subplot(gs[i])\n",
        "        plt.axis(\"off\")\n",
        "        ax.set_xticklabels([])\n",
        "        ax.set_yticklabels([])\n",
        "        ax.set_aspect(\"equal\")\n",
        "        plt.imshow(img.reshape([sqrtimg, sqrtimg]))\n",
        "    return"
      ],
      "metadata": {
        "id": "vRV_XaaN3fzC"
      },
      "execution_count": null,
      "outputs": []
    },
    {
      "cell_type": "markdown",
      "source": [
        "**Implement** the following cell to define a `batch_size`, `loader_train`, and `loader_validation`.\n",
        "\n",
        "`batch_size` should be an integer value that defines the number of samples per mini-batch that will be used for the training dataloader.\n",
        "\n",
        "`loader_train` should be a PyTorch DataLoader on the `mnist_train` dataset with `batch_size = batch_size`, `shuffle` enabled and drop the last mini-batch.\n",
        "\n",
        "`loader_validation` should be a PyTorch DataLoader on the `mnist_validation` dataset. Set the `batch_size` as high as possible for this."
      ],
      "metadata": {
        "id": "cZ7eSC02Hnkg"
      }
    },
    {
      "cell_type": "code",
      "source": [
        "# ==== BEGIN SOLUTION CODE ====\n",
        "# ==== END SOLUTION CODE ===="
      ],
      "metadata": {
        "id": "3yWKhZSIHnzb"
      },
      "execution_count": null,
      "outputs": []
    },
    {
      "cell_type": "markdown",
      "source": [
        "**Run** the following cell to show an example of a grid of MNIST images."
      ],
      "metadata": {
        "id": "_Ck6ToupcrH4"
      }
    },
    {
      "cell_type": "code",
      "source": [
        "imgs = next(iter(loader_train))[0].view(batch_size, 784)\n",
        "show_images(imgs[:36])"
      ],
      "metadata": {
        "id": "TeOLsn2D37Ej"
      },
      "execution_count": null,
      "outputs": []
    },
    {
      "cell_type": "markdown",
      "source": [
        "# (Part 1) Autoencoder - 100 pts\n",
        "\n",
        "In the next cell, **implement** the definition of the `AutoEncoder` class, that implements an autoencoder using convolutions, transpose convolutions, fully connected and non-linear activation layers.\n",
        "\n",
        "\n",
        "\n",
        "You are free to choose any architecture you would like.\n",
        "**But your network must use at least 1 convolution layer**\n",
        "\n",
        "\n",
        "Complete the following methods:\n",
        "\n",
        "- `__init__(height, width, latent_dim)`: Initializes the desired layer and architecture.\n",
        "  - The inputs to the class constructor are:\n",
        "    - `height`: The height of the input images\n",
        "    - `width`: The width of the input images\n",
        "    - `latent_dim`: The size of the latent vector\n",
        "- `encode(x)`: Encodes a batch of images `x` to a batch of latent vectors, `h`\n",
        "- `decode(h)`: Decodes a batch of latent vectors `h` to a batch images, `x_reconstructed`\n",
        "- `forward(x)`: Uses `encode` and `decode` method to compress and reconstruct a batch of images, `x`."
      ],
      "metadata": {
        "id": "zwZIkT7VHunv"
      }
    },
    {
      "cell_type": "code",
      "source": [
        "class AutoEncoder(nn.Module):\n",
        "    def __init__(self, height, width, latent_dim):\n",
        "        \"\"\"\n",
        "        \"\"\"\n",
        "        super().__init__()\n",
        "\n",
        "        # ==== BEGIN SOLUTION CODE ====\n",
        "\n",
        "\n",
        "        # ==== END SOLUTION CODE ====\n",
        "    def encode(self, x):\n",
        "        \"\"\"\n",
        "        \"\"\"\n",
        "        h = None\n",
        "        # ==== BEGIN SOLUTION CODE ====\n",
        "\n",
        "        # ==== END SOLUTION CODE ====\n",
        "        return h\n",
        "\n",
        "    def decode(self, h):\n",
        "        \"\"\"\n",
        "        \"\"\"\n",
        "        x_reconstructed = None\n",
        "        # ==== BEGIN SOLUTION CODE ====\n",
        "\n",
        "        # ==== END SOLUTION CODE ====\n",
        "        return x_reconstructed\n",
        "\n",
        "    def forward(self, x):\n",
        "        \"\"\"\n",
        "        \"\"\"\n",
        "        x_reconstructed = None\n",
        "        # ==== BEGIN SOLUTION CODE ====\n",
        "\n",
        "        # ==== END SOLUTION CODE ====\n",
        "        return x_reconstructed"
      ],
      "metadata": {
        "id": "W9z_1RRt3_sk"
      },
      "execution_count": null,
      "outputs": []
    },
    {
      "cell_type": "markdown",
      "source": [
        "## Autoencoder Training (60 pts)\n",
        "\n",
        "In the following cell, define an autoencoder (AE) and train on the training set.\n",
        "\n",
        "The AE training algorithm is as follows:\n",
        "\n",
        "1. Instantiate an `AutoEncoder`. Set it to the `model` variable.\n",
        "2. Define a dataloader in order to do mini-batch training. Batch size is up to you. (You should have done this in above cells.)\n",
        "3. Define an optimizer for your AE\n",
        "4. For each batch of data in `loader_train`:\n",
        "    - Pass the input through the AE to get the reconstructed input\n",
        "    - Calculate the loss using the [`nn.functional.binary_cross_entropy`](https://pytorch.org/docs/stable/generated/torch.nn.functional.binary_cross_entropy.html)\n",
        "    - Zero the gradients, propagate the loss backwards, and update the  weights using the optimizer\n",
        "\n",
        "5. Repeat 4\n",
        "6. After N iterations (or every epoch), compute the validation loss over the validation set (using the `loader_validation`).\n"
      ],
      "metadata": {
        "id": "UGxY6-fS5-Qc"
      }
    },
    {
      "cell_type": "code",
      "source": [
        "model = None # Instantiate your model to this variable\n",
        "\n",
        "# ==== BEGIN SOLUTION CODE ====\n",
        "\n",
        "\n",
        "# ==== END SOLUTION CODE ====\n",
        "assert model is not None"
      ],
      "metadata": {
        "id": "aKoxFGZb59FS"
      },
      "execution_count": null,
      "outputs": []
    },
    {
      "cell_type": "markdown",
      "source": [
        "**Implement** the following cell to generate 36 random reconstructions from your previously trained AE model and visualize the outputs."
      ],
      "metadata": {
        "id": "4cxGWAFrxumZ"
      }
    },
    {
      "cell_type": "code",
      "source": [
        "# ==== BEGIN SOLUTION CODE ====\n",
        "\n",
        "# ==== END SOLUTION CODE ===="
      ],
      "metadata": {
        "id": "pXyDl3Jg6kRc"
      },
      "execution_count": null,
      "outputs": []
    },
    {
      "cell_type": "markdown",
      "source": [
        "## Masked Autoencoder Training (40 pts)\n",
        "\n",
        "Masked autoencoders (MAE) are autoencoder models trained with corrupted images via masking out random pixel values to 0.\n",
        "\n",
        "In the following cell, define a masked autoencoder (MAE) and train on the training set.\n",
        "\n",
        "The MAE training algorithm is as follows:\n",
        "\n",
        "1. Instantiate an `AutoEncoder`. Set it to the `mae_model` variable\n",
        "2. Define an optimizer for your MAE\n",
        "3. For each `batch` of data in `loader_train`:\n",
        "    - Get the (image, label) tuple. You can discard the label.\n",
        "    - Get the `masked_image` by using the `random_mask` function given below.\n",
        "    - Pass the masked input, `masked_image` through the MAE to get the reconstructed input\n",
        "    - Calculate the loss using the [`nn.functional.binary_cross_entropy`](https://pytorch.org/docs/stable/generated/torch.nn.functional.binary_cross_entropy.html). The loss should be calculated between the reconstructed image (the output of the model) and the original unmasked image.\n",
        "    - Zero the gradients, propagate the loss backwards, and update the  weights using the optimizer\n",
        "\n",
        "4. Repeat 3\n",
        "5. After N iterations (or every epoch), compute the validation loss over the validation set (using the `loader_validation`).\n",
        "\n",
        "**Note** This is a more difficult learning task compared to regular autoencoder training, so you will have update hyperparameters to get good results"
      ],
      "metadata": {
        "id": "FfNXjRIOMSQi"
      }
    },
    {
      "cell_type": "markdown",
      "source": [
        "*Run* the following cell to show an example of a grid of MNIST images that have been masked."
      ],
      "metadata": {
        "id": "wCjgBqMDcsfb"
      }
    },
    {
      "cell_type": "code",
      "source": [
        "def random_mask(image_batch, mask_percent=0.3):\n",
        "    '''Takes a batch of images and masks random pixels'''\n",
        "    assert len(image_batch.shape) == 4, \"Expected a batch of images.\"\n",
        "    copy_batch = image_batch.clone()\n",
        "    device = image_batch.device\n",
        "    orig_shape = image_batch.shape\n",
        "    num_elem = torch.numel(image_batch)\n",
        "\n",
        "    non_zero_pixels = torch.argwhere(copy_batch.view(-1) > 0)\n",
        "    num_non_zero = non_zero_pixels.shape[0]\n",
        "    mask_num = int(num_non_zero * mask_percent)\n",
        "\n",
        "    permute = torch.randperm(num_non_zero)\n",
        "    mask_pixels = non_zero_pixels[permute[:mask_num]]\n",
        "\n",
        "    copy_batch = copy_batch.view(-1)\n",
        "    copy_batch[mask_pixels] = 0\n",
        "    copy_batch = copy_batch.view(orig_shape)\n",
        "    return copy_batch\n",
        "\n",
        "imgs = next(iter(loader_train))[0]\n",
        "masked_imgs = random_mask(imgs).view(batch_size, 784)\n",
        "show_images(masked_imgs[:36])"
      ],
      "metadata": {
        "id": "Xeu2UJIcNoxI"
      },
      "execution_count": null,
      "outputs": []
    },
    {
      "cell_type": "code",
      "source": [
        "mae_model = None # Instantiate your model to this variable\n",
        "\n",
        "# ==== BEGIN SOLUTION CODE ====\n",
        "\n",
        "\n",
        "# ==== END SOLUTION CODE ====\n",
        "assert mae_model is not None"
      ],
      "metadata": {
        "id": "6Xx5nYOPaodS"
      },
      "execution_count": null,
      "outputs": []
    },
    {
      "cell_type": "markdown",
      "source": [
        "**Implement** the following cell to generate 36 random reconstructions from your previously trained MAE model and visualize the outputs."
      ],
      "metadata": {
        "id": "TS0R4kOkam-K"
      }
    },
    {
      "cell_type": "code",
      "source": [
        "# ==== BEGIN SOLUTION CODE ====\n",
        "\n",
        "# ==== END SOLUTION CODE ===="
      ],
      "metadata": {
        "id": "VbuUx4t6PUJ_"
      },
      "execution_count": null,
      "outputs": []
    },
    {
      "cell_type": "markdown",
      "source": [
        "# (Part 2, 40 pts Extra Credit) Similarity Search\n",
        "\n",
        "Now using your trained model, you will generate latent vectors of the training images. This will encode the images into a vector.\n",
        "\n",
        "You will also use your trained models to encode a test image into a vector, compute a similarity measure ($L_2$ or Cosine-similarity) with the training latent vectors."
      ],
      "metadata": {
        "id": "-o27ZbMwHZl8"
      }
    },
    {
      "cell_type": "markdown",
      "source": [
        "**Implement** the following cell to complete the `generate_latent_vectors` function.\n",
        "\n",
        "The arguments are:\n",
        "\n",
        "- `model`: The model used to generate the latent encodings\n",
        "- `dataset`: The dataset to the generate the latent encodings\n",
        "\n",
        "Returns:\n",
        "- PyTorch tensor of latent vectors computed from the dataset images using the model. It should be a 2D tensor with `len(dataset)` rows and `latent_dim` columns.\n",
        "\n",
        "Iterate over each image in the `dataset` and `encode` the images using the `model`. Make sure to turn off backprop and gradient calculations using `with torch.no_grad()` and set the model to evaluation mode using `model.eval()`.\n",
        "\n",
        "You may find the `torch.vstack` function useful.\n",
        "\n",
        "Also, your code may be written to expect a batch dimension such that images are\n",
        "(num_samples, 1, 28, 28), so you may have to use `.unsqueeze(0)` to convert a single image to a batch of images with a single image.\n"
      ],
      "metadata": {
        "id": "iu7EbzxPxx9X"
      }
    },
    {
      "cell_type": "code",
      "source": [
        "def generate_latent_vectors(model, dataset):\n",
        "    '''\n",
        "    Iterates over the dataset and uses the model to generates latent vectors.\n",
        "    Returns a Torch tensor of latent vectors of shape\n",
        "\n",
        "    Args:\n",
        "      - model : trained model\n",
        "      - dataset: PyTorch dataset of images\n",
        "\n",
        "    Returns:\n",
        "      - latent_vectors - Torch tensor of dimension (len(dataset), latent_dim).\n",
        "    '''\n",
        "    latent_vectors = None\n",
        "    # ==== BEGIN SOLUTION CODE ====\n",
        "\n",
        "    # ==== END SOLUTION CODE ====\n",
        "    return latent_vectors"
      ],
      "metadata": {
        "id": "N4d3UPbHXNvY"
      },
      "execution_count": null,
      "outputs": []
    },
    {
      "cell_type": "markdown",
      "source": [
        "**Run** the following cell to generate the latent vectors of the images from the `mnist_train` dataset using your `model` and the `generate_latent_vectors` dataset."
      ],
      "metadata": {
        "id": "ZWPMyTjjwueQ"
      }
    },
    {
      "cell_type": "code",
      "source": [
        "training_vectors = generate_latent_vectors(model, mnist_train)"
      ],
      "metadata": {
        "id": "gqG7afFMc0KW"
      },
      "execution_count": null,
      "outputs": []
    },
    {
      "cell_type": "markdown",
      "source": [
        "**Implement** the `cosine_sim` function that computes the cosine similarity between each row of input tensors `a` and `b` and the 1-D tensor of indices with the of the `k` closest values.\n",
        "\n",
        "\n",
        "*Hint: You can use the [torch.nn.functional.cosine_similarity](https://pytorch.org/docs/stable/generated/torch.nn.functional.cosine_similarity.html#torch.nn.functional.cosine_similarity) and\n",
        "[torch.topk](https://pytorch.org/docs/stable/generated/torch.topk.html) functions. Make sure you use the appropriate parameters*  "
      ],
      "metadata": {
        "id": "37XT_cLIYVTD"
      }
    },
    {
      "cell_type": "code",
      "source": [
        "def cosine_sim(a, b, k=5):\n",
        "    # ==== BEGIN SOLUTION CODE ====\n",
        "\n",
        "    # ==== END SOLUTION CODE ===="
      ],
      "metadata": {
        "id": "UCUKPmZ6d1r8"
      },
      "execution_count": null,
      "outputs": []
    },
    {
      "cell_type": "markdown",
      "source": [
        "**Implement** the `l2_pairwise_dist` function that computes the l2 distance between each row of input tensors `a` and `b` and returns the 1-D tensor of indices with the of the `k` closest values.\n",
        "\n",
        "*Hint: You can use the [torch.nn.functional.pairwise_distance](https://pytorch.org/docs/stable/generated/torch.nn.functional.pairwise_distance.html#torch.nn.functional.pairwise_distance) and\n",
        "[torch.topk](https://pytorch.org/docs/stable/generated/torch.topk.html) functions. Make sure you use the appropriate parameters*"
      ],
      "metadata": {
        "id": "j64XVqn7imro"
      }
    },
    {
      "cell_type": "code",
      "source": [
        "def l2_pairwise_dist(a, b, k=5):\n",
        "    # ==== BEGIN SOLUTION CODE ====\n",
        "\n",
        "    # ==== END SOLUTION CODE ===="
      ],
      "metadata": {
        "id": "lCu5P2t9d3Wt"
      },
      "execution_count": null,
      "outputs": []
    },
    {
      "cell_type": "markdown",
      "source": [
        "**Implement** the following function to find the top-k most similar images for a given image using a given 2-D array of latent vectors.\n",
        "\n",
        "The arguments are:\n",
        "  - `img`: The image to search similar images for.\n",
        "  - `model`: The trained model to use to generate latent vector of `img`.\n",
        "  - `latents`: The 2D tensor of latent vectors of the training dataset. Find the similar vectors to `img`s latent vector within this 2D tensor.\n",
        "  - `k`: The number of indices to return (default: 5)\n",
        "  - `distance_function`: The distance function to use to measure the similarity between latent vectors.  \n",
        "  \n",
        "\n",
        "Returns:\n",
        "    - The 1-D tensor of indices of the similar images to `img`\n",
        "\n",
        "\n",
        "Get the latent vector of `img` using your `model`s `encode` and then use the `distance_function` to get the `k`-nearest vectors."
      ],
      "metadata": {
        "id": "1X7NH7cwLM_r"
      }
    },
    {
      "cell_type": "code",
      "source": [
        "def find_top_k(img, model, latents, k = 5, distance_function=cosine_sim):\n",
        "    ind = None\n",
        "    # ==== BEGIN SOLUTION CODE ====\n",
        "\n",
        "    # ==== END SOLUTION CODE ====\n",
        "    return ind"
      ],
      "metadata": {
        "id": "Q1E1BdNwfbNj"
      },
      "execution_count": null,
      "outputs": []
    },
    {
      "cell_type": "markdown",
      "source": [
        "**Run** the following cell to define the top-k image visualization helper function."
      ],
      "metadata": {
        "id": "FnR1cK8huvdB"
      }
    },
    {
      "cell_type": "code",
      "source": [
        "def show_top_k_images(root_image, images):\n",
        "\n",
        "    num_images = len(images) + 1\n",
        "    sqrtimg = int(math.ceil(math.sqrt(28)))\n",
        "\n",
        "    fig = plt.figure(figsize=(num_images*2.5, num_images*5))\n",
        "    gs = gridspec.GridSpec(1, num_images)\n",
        "    gs.update(wspace=0.05, hspace=0.05)\n",
        "    images = [root_image] + images\n",
        "\n",
        "    for i, img in enumerate(images):\n",
        "\n",
        "        ax = plt.subplot(gs[i])\n",
        "        plt.axis(\"off\")\n",
        "        ax.set_xticklabels([])\n",
        "        ax.set_yticklabels([])\n",
        "        ax.set_aspect(\"equal\")\n",
        "        plt.imshow(img.reshape([28, 28]))\n",
        "        if i == 0:\n",
        "            ax.set_title(\"Search Image\")\n",
        "    return"
      ],
      "metadata": {
        "id": "rXfiWm3QoxVw"
      },
      "execution_count": null,
      "outputs": []
    },
    {
      "cell_type": "markdown",
      "source": [
        "**Run** the following cell to get the 5 most similar images to an image from the test set using a cosine similarity metric.\n",
        "\n",
        "If all the above cells are completed correctly, there should be no errors, and the found images should look visually similar."
      ],
      "metadata": {
        "id": "nF5Ttbiyu3B-"
      }
    },
    {
      "cell_type": "code",
      "source": [
        "root_img_ind = 19\n",
        "root_img = mnist_test[root_img_ind][0]\n",
        "_inds = find_top_k(root_img, model, training_vectors, k=5, distance_function= cosine_sim)\n",
        "images = []\n",
        "for i in _inds:\n",
        "    images.append(mnist_train[i][0])\n",
        "show_top_k_images(root_img, images)"
      ],
      "metadata": {
        "id": "NBd2UG6dnNgr"
      },
      "execution_count": null,
      "outputs": []
    },
    {
      "cell_type": "markdown",
      "source": [
        "**Run** the following cell to get the 5 most similar images to an image from the test set using a cosine similarity metric using the MAE.\n",
        "\n",
        "If all the above cells are completed correctly, there should be no errors, and the found images should look visually similar."
      ],
      "metadata": {
        "id": "kCXf5Ry7bWQJ"
      }
    },
    {
      "cell_type": "code",
      "source": [
        "root_img_ind = 19\n",
        "root_img = mnist_test[root_img_ind][0]\n",
        "_inds = find_top_k(root_img, mae_model, training_vectors, k=5, distance_function= cosine_sim)\n",
        "images = []\n",
        "for i in _inds:\n",
        "    images.append(mnist_train[i][0])\n",
        "show_top_k_images(root_img, images)"
      ],
      "metadata": {
        "id": "Qg3T3NmDbU4f"
      },
      "execution_count": null,
      "outputs": []
    },
    {
      "cell_type": "markdown",
      "source": [
        "**Run** the following cell to get the 5 most similar images to an image from the test set using a $\\mathcal{l}_2$ distance.\n",
        "\n",
        "\n",
        "If all the above cells are completed correctly, there should be no errors, and the found images should look visually similar."
      ],
      "metadata": {
        "id": "duLY_18Usuts"
      }
    },
    {
      "cell_type": "code",
      "source": [
        "root_img_ind = 19\n",
        "root_img = mnist_test[root_img_ind][0]\n",
        "_inds = find_top_k(root_img, model, training_vectors, k=5, distance_function=l2_pairwise_dist)\n",
        "images = []\n",
        "for i in _inds:\n",
        "    images.append(mnist_train[i][0])\n",
        "show_top_k_images(root_img, images)"
      ],
      "metadata": {
        "id": "fp5XZXdUnTVe"
      },
      "execution_count": null,
      "outputs": []
    },
    {
      "cell_type": "markdown",
      "source": [
        "**Run** the following cell to get the 5 most similar images to an image from the test set using a $\\mathcal{l}_2$ distance using the MAE.\n",
        "\n",
        "\n",
        "If all the above cells are completed correctly, there should be no errors, and the found images should look visually similar."
      ],
      "metadata": {
        "id": "nMM-KmkmbeJ3"
      }
    },
    {
      "cell_type": "code",
      "source": [
        "root_img_ind = 19\n",
        "root_img = mnist_test[root_img_ind][0]\n",
        "_inds = find_top_k(root_img, mae_model, training_vectors, k=5, distance_function=l2_pairwise_dist)\n",
        "images = []\n",
        "for i in _inds:\n",
        "    images.append(mnist_train[i][0])\n",
        "show_top_k_images(root_img, images)"
      ],
      "metadata": {
        "id": "HGNVLa6mbeRO"
      },
      "execution_count": null,
      "outputs": []
    }
  ]
}